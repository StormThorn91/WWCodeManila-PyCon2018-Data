{
 "cells": [
  {
   "cell_type": "markdown",
   "metadata": {},
   "source": [
    "### Simple Linear Regression using numpy (with pandas and pyplot)\n",
    "\n",
    "In the following, we'll take a closer look at the relationships between following variables:\n",
    "- temperature (y) versus latitude (x)\n",
    "- temperature (y) versus longitude (x)\n",
    "\n",
    "![title](images/latitude_longitude.jpg)"
   ]
  },
  {
   "cell_type": "code",
   "execution_count": null,
   "metadata": {
    "collapsed": true
   },
   "outputs": [],
   "source": [
    "import csv\n",
    "import pandas as pd\n",
    "import numpy as np\n",
    "import matplotlib.pyplot as plt"
   ]
  },
  {
   "cell_type": "code",
   "execution_count": null,
   "metadata": {
    "collapsed": true
   },
   "outputs": [],
   "source": [
    "# For compatibility across multiple platforms\n",
    "import os\n",
    "IB = os.environ.get('INSTABASE_URI',None) is not None\n",
    "open = ib.open if IB else open"
   ]
  },
  {
   "cell_type": "markdown",
   "metadata": {},
   "source": [
    "### Reading CSV file into dataframe\n",
    "Let's begin by reading Cities.csv into a dataframe."
   ]
  },
  {
   "cell_type": "code",
   "execution_count": null,
   "metadata": {
    "collapsed": false
   },
   "outputs": [],
   "source": [
    "f = open('datasets/Cities.csv','r')\n",
    "cities = pd.read_csv(f)"
   ]
  },
  {
   "cell_type": "markdown",
   "metadata": {},
   "source": [
    "### Plotting a line\n",
    "Suppose we want to plot a line that passes through points (1,2) and (3,7). \n",
    "\n",
    "The way to do this would be as follows:"
   ]
  },
  {
   "cell_type": "code",
   "execution_count": null,
   "metadata": {
    "collapsed": false
   },
   "outputs": [],
   "source": [
    "plt.plot([1,3], [2,7], color='green')\n",
    "plt.show()"
   ]
  },
  {
   "cell_type": "markdown",
   "metadata": {},
   "source": [
    "### Temperature versus latitude scatterplot\n",
    "A <b>scatterplot</b> is a type of plot that displays values for typically two variables for a set of data. \n",
    "\n",
    "In the following plot, each point represents a <b>city</b> with its corresponding <b>latitude</b> (x) and <b>temperature</b> (y) values."
   ]
  },
  {
   "cell_type": "code",
   "execution_count": null,
   "metadata": {
    "collapsed": false
   },
   "outputs": [],
   "source": [
    "cities.plot.scatter(x='latitude', y='temperature')\n",
    "plt.show()"
   ]
  },
  {
   "cell_type": "markdown",
   "metadata": {},
   "source": [
    "### Add linear regression\n",
    "We want to calculate a simple <b>linear regression line</b> that <b>passes through the data</b> such that the distance of each data point from the line is minimized. \n",
    "\n",
    "Luckily, the Numpy package comes with a function called <b>ployfit()</b> that automatically calculates the linear regression model for us. "
   ]
  },
  {
   "cell_type": "code",
   "execution_count": null,
   "metadata": {
    "collapsed": false
   },
   "outputs": [],
   "source": [
    "cities.plot.scatter(x='latitude', y='temperature')\n",
    "a,b = np.polyfit(cities.latitude, cities.temperature, 1) # Regression line is y = ax + b\n",
    "x1 = min(cities.latitude)\n",
    "x2 = max(cities.latitude)\n",
    "plt.plot([x1,x2], [a*x1 + b, a*x2 + b], color='red')\n",
    "plt.xlim(x1,x2)\n",
    "plt.show()"
   ]
  },
  {
   "cell_type": "markdown",
   "metadata": {},
   "source": [
    "Here, we see that temperature appears to be <b>negatively correlated</b> with latitude. "
   ]
  },
  {
   "cell_type": "markdown",
   "metadata": {},
   "source": [
    "### Correlation coefficients (r values)\n",
    "Recall that the value of <b>r</b> is between -1 and 1. \n",
    "- 1: maximum positive correlation \n",
    "- 0: no correlation\n",
    "- -1: maximum negative correlation\n",
    "\n",
    "In order to get the correlation coefficient of the linear regression model, we can use Numpy's <b>corrcoef()</b> function. "
   ]
  },
  {
   "cell_type": "code",
   "execution_count": null,
   "metadata": {
    "collapsed": false
   },
   "outputs": [],
   "source": [
    "cc = np.corrcoef(cities.latitude, cities.temperature)[1,0]\n",
    "print('Correlation coefficient for temperature versus latitude:', cc)\n",
    "cc = np.corrcoef(cities.longitude, cities.temperature)[1,0]\n",
    "print('Correlation coefficient for temperature versus longitude:', cc)"
   ]
  },
  {
   "cell_type": "markdown",
   "metadata": {},
   "source": [
    "Thus, we confirm that temperature is <b>negatively correlated</b> to latitude as its correlation coeffiticent is closer to -1. \n",
    "\n",
    "Meanwhile, temperature does not seem to be correlated with longitude. "
   ]
  },
  {
   "cell_type": "markdown",
   "metadata": {},
   "source": [
    "### Linear regression for interactive temperature predictor\n",
    "We'll now compute latitude-temperature regression from cities in Norway, France, and Turkey."
   ]
  },
  {
   "cell_type": "code",
   "execution_count": null,
   "metadata": {
    "collapsed": false
   },
   "outputs": [],
   "source": [
    "train = cities[(cities.country=='Norway') | (cities.country=='France') | (cities.country=='Turkey')]\n",
    "# Compute and show regression\n",
    "plt.scatter(train.latitude, train.temperature)\n",
    "a,b = np.polyfit(train.latitude, train.temperature, 1)\n",
    "x1 = min(train.latitude)\n",
    "x2 = max(train.latitude)\n",
    "plt.plot([x1,x2], [a*x1 + b, a*x2 + b], color='red')\n",
    "plt.xlim(x1,x2)\n",
    "plt.show()\n",
    "# Loop asking user for city name, compute predicted + actual temperature\n",
    "while True:\n",
    "    name = input('Enter city name (or \"quit\" to quit): ')\n",
    "    if name == 'quit': break\n",
    "    city = cities[cities.city == name]\n",
    "    if len(city) == 0:\n",
    "        print('City not in dataset')\n",
    "    else:\n",
    "        # Use float() to convert dataframe element to value\n",
    "        print('Predicted temperature:', a * float(city.latitude) + b)\n",
    "        print('Actual temperature:', float(city.temperature))"
   ]
  },
  {
   "cell_type": "markdown",
   "metadata": {
    "collapsed": true
   },
   "source": [
    "### <font color=\"green\">Your Turn: World Cup Data</font>"
   ]
  },
  {
   "cell_type": "code",
   "execution_count": null,
   "metadata": {
    "collapsed": false
   },
   "outputs": [],
   "source": [
    "# Read Players.csv into dataframe\n",
    "f = open('datasets/Players.csv','r')\n",
    "players = pd.read_csv(f)"
   ]
  },
  {
   "cell_type": "code",
   "execution_count": null,
   "metadata": {
    "collapsed": true
   },
   "outputs": [],
   "source": [
    "# From the players data, compute and plot a linear regression for\n",
    "# passes made (y-axis) versus minutes played (x-axis).\n",
    "# Reminder: copy-paste-modify approach to programming!"
   ]
  },
  {
   "cell_type": "code",
   "execution_count": null,
   "metadata": {
    "collapsed": true
   },
   "outputs": [],
   "source": [
    "# Show the correlation coefficient for the passes-minutes regression.\n",
    "# Also show correlation coefficients for tackles versus minutes, shots\n",
    "# versus minutes, and saves versus minutes"
   ]
  },
  {
   "cell_type": "code",
   "execution_count": null,
   "metadata": {
    "collapsed": true
   },
   "outputs": [],
   "source": [
    "# Use linear regression for interactive number-of-passes predictor\n",
    "# Training data: compute minutes-passes regression for players from\n",
    "# Greece, USA, and Portugal"
   ]
  },
  {
   "cell_type": "code",
   "execution_count": null,
   "metadata": {
    "collapsed": true
   },
   "outputs": [],
   "source": [
    "# SUPER BONUS!!\n",
    "# Repeat previous but use separate predictor for the four different positions\n",
    "# (goalkeeper,defender,midfielder,forward). Does it do better?\n",
    "# Try comparing correlation coefficients against one regression for all players.\n",
    "#\n",
    "# Note: To extract a string value from a dataframe element use df.iloc[0].element,\n",
    "# e.g., if \"player\" is a one-row dataframe, then player.iloc[0].position returns\n",
    "# the player's position as a string"
   ]
  }
 ],
 "metadata": {
  "kernelspec": {
   "display_name": "Python 3",
   "language": "python",
   "name": "python3"
  },
  "language_info": {
   "codemirror_mode": {
    "name": "ipython",
    "version": 3
   },
   "file_extension": ".py",
   "mimetype": "text/x-python",
   "name": "python",
   "nbconvert_exporter": "python",
   "pygments_lexer": "ipython3",
   "version": "3.6.0"
  }
 },
 "nbformat": 4,
 "nbformat_minor": 1
}
