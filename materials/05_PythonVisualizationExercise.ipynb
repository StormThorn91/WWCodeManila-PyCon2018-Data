{
 "cells": [
  {
   "cell_type": "markdown",
   "metadata": {},
   "source": [
    "# \"Hello, World of Data!\": Your ABC Blocks in Data Handling, Analysis, and Visualization  \n",
    "## Section 5: Visualization\n",
    "\n",
    "The results of analyses are often best understood and communicated through visualizations.  Several tools that generate charts and graphs exist out there (e.g., spreadsheet software, Tableau, Gephi).  In Python alone, visualization packages with different strengths and weaknesses abound. Choosing the right tool to create your visuals should depend on which can most effectively deliver the story that is in your data.\n",
    "\n",
    "This quick follow-along demo will explore some Python libraries that represent solutions to different visualization needs.  This is by no means a crash course on how to create the most effective visualizations--that is a whole course by itself.  Rather, this is meant as an introduction to help you get started on choosing the right tools for the visuals that you want.\n",
    "\n",
    "Let's get started!"
   ]
  },
  {
   "cell_type": "code",
   "execution_count": null,
   "metadata": {
    "collapsed": true
   },
   "outputs": [],
   "source": [
    "import pandas as pd\n",
    "import matplotlib.pyplot as plt\n",
    "%matplotlib inline"
   ]
  },
  {
   "cell_type": "markdown",
   "metadata": {},
   "source": [
    "Notice that we import `matplotlib`.  Although `matplotlib` won't be used directly, the libraries used here (pandas and seaborn) both create wrappers for matplotlib."
   ]
  },
  {
   "cell_type": "code",
   "execution_count": null,
   "metadata": {
    "collapsed": true
   },
   "outputs": [],
   "source": [
    "cities = pd.read_csv(\"datasets/Cities.csv\")\n",
    "countries = pd.read_csv(\"datasets/Countries.csv\")"
   ]
  },
  {
   "cell_type": "code",
   "execution_count": null,
   "metadata": {},
   "outputs": [],
   "source": [
    "cities.head()"
   ]
  },
  {
   "cell_type": "code",
   "execution_count": null,
   "metadata": {},
   "outputs": [],
   "source": [
    "countries.head()"
   ]
  },
  {
   "cell_type": "markdown",
   "metadata": {},
   "source": [
    "### Simple and fast static visualization: pandas \n",
    "Basic plotting can be done directly within pandas.  Refer to the pandas documentation for a full description of the types of plots you can make using pandas.\n",
    "https://pandas.pydata.org/pandas-docs/stable/visualization.html  \n",
    "\n",
    "Here is a simple scatter plot."
   ]
  },
  {
   "cell_type": "code",
   "execution_count": null,
   "metadata": {},
   "outputs": [],
   "source": [
    "cities.plot.scatter(x=\"latitude\", y=\"temperature\")"
   ]
  },
  {
   "cell_type": "code",
   "execution_count": null,
   "metadata": {},
   "outputs": [],
   "source": [
    "# Here, a pandas.Series object is created for the pie graph\n",
    "ser_pie = pd.Series(list(countries.population), \n",
    "                    index=list(countries.country))\n",
    "ser_pie.head()"
   ]
  },
  {
   "cell_type": "code",
   "execution_count": null,
   "metadata": {},
   "outputs": [],
   "source": [
    "ser_pie.plot(kind=\"pie\", figsize=(8,8))"
   ]
  },
  {
   "cell_type": "markdown",
   "metadata": {},
   "source": [
    "### More customized static visualization: seaborn  \n",
    "Direct plotting using pandas is very convenient.  However, some graphs simply need several customizations to be effective.  A plotting library that makes customization easy is an advantage in this scenario.  In Python alone, there are several libraries that can do this.  Here is an entertaining review of thse libraries.  \n",
    "https://dsaber.com/2016/10/02/a-dramatic-tour-through-pythons-data-visualization-landscape-including-ggplot-and-altair/\n",
    "\n",
    "In this demo, we will use seaborn.  For a full API description fo seaborn, some tutorials, and a ton of inspiration, go to seaborn.pydata.org."
   ]
  },
  {
   "cell_type": "code",
   "execution_count": null,
   "metadata": {},
   "outputs": [],
   "source": [
    "import seaborn as sns\n",
    "# sns.set_palette(sns.color_palette(\"RdBu_r\"))\n",
    "sns.lmplot(x=\"latitude\", y=\"temperature\", data=cities)"
   ]
  },
  {
   "cell_type": "markdown",
   "metadata": {},
   "source": [
    "Here, a scatter plot and its regression line are drawn in the same panel.  All of it is exectued in a single line of code!\n",
    "\n",
    "Let's look at other types of plots that seaborn makes extremely easy to do."
   ]
  },
  {
   "cell_type": "code",
   "execution_count": null,
   "metadata": {},
   "outputs": [],
   "source": [
    "sns.jointplot(x=\"longitude\", y=\"latitude\", data=cities, kind=\"kde\")"
   ]
  },
  {
   "cell_type": "code",
   "execution_count": null,
   "metadata": {},
   "outputs": [],
   "source": [
    "sns.violinplot(x=\"EU\", y=\"population\", hue=\"coastline\", data=countries, \n",
    "               cut=0, split=True, palette=\"Set1\", inner=\"stick\")"
   ]
  },
  {
   "cell_type": "markdown",
   "metadata": {},
   "source": [
    "Seaborn has an extensive list of plotting and styling functions that make plotting life easy.  The API is worth checking out."
   ]
  },
  {
   "cell_type": "markdown",
   "metadata": {},
   "source": [
    "### <font color=\"green\">Your Turn: World Cup data</font>  \n",
    "Draw any type of plot not shown above, using `datasets/Players.csv` or `datasets/Teams.csv`.  We recommend consulting the API documentation of pandas and/or seaborn."
   ]
  },
  {
   "cell_type": "code",
   "execution_count": null,
   "metadata": {
    "collapsed": true
   },
   "outputs": [],
   "source": []
  }
 ],
 "metadata": {
  "kernelspec": {
   "display_name": "Python 3",
   "language": "python",
   "name": "python3"
  },
  "language_info": {
   "codemirror_mode": {
    "name": "ipython",
    "version": 3
   },
   "file_extension": ".py",
   "mimetype": "text/x-python",
   "name": "python",
   "nbconvert_exporter": "python",
   "pygments_lexer": "ipython3",
   "version": "3.6.1"
  }
 },
 "nbformat": 4,
 "nbformat_minor": 2
}
