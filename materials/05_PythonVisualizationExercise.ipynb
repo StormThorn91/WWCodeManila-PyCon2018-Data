{
 "cells": [
  {
   "cell_type": "markdown",
   "metadata": {},
   "source": [
    "# \"Hello, World of Data!\": Your ABC Blocks in Data Handling, Analysis, and Visualization  \n",
    "## Section 5: Visualization\n",
    "\n",
    "The results of analyses are often best understood and communicated through visualizations.  Several tools that generate charts and graphs exist out there (e.g., spreadsheet software, Tableau, Gephi).  In Python alone, visualization packages with different strengths and weaknesses abound. Choosing the right tool to create your visuals should depend on which can most effectively deliver the story that is in your data.\n",
    "\n",
    "This quick follow-along demo will explore some Python libraries that represent solutions to different visualization needs.  This is by no means a crash course on how to create the most effective visualizations--that is a whole course by itself.  Rather, this is meant as an introduction to help you get started on choosing the right tools for the visuals that you want.\n",
    "\n",
    "Let's get started!"
   ]
  },
  {
   "cell_type": "code",
   "execution_count": null,
   "metadata": {},
   "outputs": [],
   "source": [
    "import pandas as pd\n",
    "import matplotlib.pyplot as plt\n",
    "%matplotlib inline"
   ]
  },
  {
   "cell_type": "markdown",
   "metadata": {},
   "source": [
    "Notice that we import `matplotlib`.  Although `matplotlib` won't be used directly, the libraries used here (pandas and seaborn) both create wrappers for matplotlib."
   ]
  },
  {
   "cell_type": "code",
   "execution_count": null,
   "metadata": {},
   "outputs": [],
   "source": [
    "cities = pd.read_csv(\"datasets/Cities.csv\")\n",
    "countries = pd.read_csv(\"datasets/Countries.csv\")"
   ]
  },
  {
   "cell_type": "code",
   "execution_count": null,
   "metadata": {},
   "outputs": [],
   "source": [
    "cities.head()"
   ]
  },
  {
   "cell_type": "code",
   "execution_count": null,
   "metadata": {},
   "outputs": [],
   "source": [
    "countries.head()"
   ]
  },
  {
   "cell_type": "markdown",
   "metadata": {},
   "source": [
    "### Simple and fast static visualization: pandas \n",
    "Basic plotting can be done directly within pandas.  Refer to the pandas documentation for a full description of the types of plots you can make using pandas.\n",
    "https://pandas.pydata.org/pandas-docs/stable/visualization.html  \n",
    "\n",
    "Here is a simple scatter plot."
   ]
  },
  {
   "cell_type": "code",
   "execution_count": null,
   "metadata": {},
   "outputs": [],
   "source": [
    "cities.plot.scatter(x=\"latitude\", y=\"temperature\")"
   ]
  },
  {
   "cell_type": "code",
   "execution_count": null,
   "metadata": {},
   "outputs": [],
   "source": [
    "# Here, a pandas.Series object is created for the pie graph\n",
    "ser_pie = pd.Series(list(countries.population), \n",
    "                    index=list(countries.country))\n",
    "ser_pie.head()"
   ]
  },
  {
   "cell_type": "code",
   "execution_count": null,
   "metadata": {},
   "outputs": [],
   "source": [
    "ser_pie.plot(kind=\"pie\", figsize=(8,8))"
   ]
  },
  {
   "cell_type": "markdown",
   "metadata": {},
   "source": [
    "### More customized static visualization: seaborn  \n",
    "Direct plotting using pandas is very convenient.  However, some graphs simply need several customizations to be effective.  A plotting library that makes customization easy is an advantage in this scenario.  In Python alone, there are several libraries that can do this.  Here is an entertaining review of thse libraries.  \n",
    "https://dsaber.com/2016/10/02/a-dramatic-tour-through-pythons-data-visualization-landscape-including-ggplot-and-altair/\n",
    "\n",
    "In this demo, we will use seaborn.  For a full API description fo seaborn, some tutorials, and a ton of inspiration, go to seaborn.pydata.org."
   ]
  },
  {
   "cell_type": "code",
   "execution_count": null,
   "metadata": {},
   "outputs": [],
   "source": [
    "import seaborn as sns\n",
    "# sns.set_palette(sns.color_palette(\"RdBu_r\"))\n",
    "sns.lmplot(x=\"latitude\", y=\"temperature\", data=cities)"
   ]
  },
  {
   "cell_type": "markdown",
   "metadata": {},
   "source": [
    "Here, a scatter plot and its regression line are drawn in the same panel.  All of it is exectued in a single line of code!\n",
    "\n",
    "Let's look at other types of plots that seaborn makes extremely easy to do."
   ]
  },
  {
   "cell_type": "code",
   "execution_count": null,
   "metadata": {},
   "outputs": [],
   "source": [
    "sns.jointplot(x=\"longitude\", y=\"latitude\", data=cities, kind=\"kde\")"
   ]
  },
  {
   "cell_type": "code",
   "execution_count": null,
   "metadata": {},
   "outputs": [],
   "source": [
    "sns.violinplot(x=\"EU\", y=\"population\", hue=\"coastline\", data=countries, \n",
    "               cut=0, split=True, palette=\"Set1\", inner=\"stick\")"
   ]
  },
  {
   "cell_type": "markdown",
   "metadata": {},
   "source": [
    "Seaborn has an extensive list of plotting and styling functions that make plotting life easy.  The API is worth checking out."
   ]
  },
  {
   "cell_type": "markdown",
   "metadata": {},
   "source": [
    "### Interactive Plotting with Plotly\n",
    "We begin by importing the plotly libraries. \n",
    "\n",
    "<b>Important!</b> In order to plot with Plotly, we highly encourage you to [set up your own account in plotly](https://plot.ly/accounts/login/?action=login). Afterwards, please change the default username and API key below to you own username and API key. You can [find your API key here](https://plot.ly/settings/api).\n",
    "\n",
    "Note that each account can create a limited number of charts daily. To prevent the default account (currently set to ibtingzon3) from reaching its daily limit, it is advisable that you use your own API keys. "
   ]
  },
  {
   "cell_type": "code",
   "execution_count": null,
   "metadata": {},
   "outputs": [],
   "source": [
    "import plotly\n",
    "plotly.tools.set_credentials_file(username='ibtingzon3', api_key='J6darIF7bKasACTNzeBQ')\n",
    "import plotly.plotly as py\n",
    "import plotly.graph_objs as go"
   ]
  },
  {
   "cell_type": "code",
   "execution_count": null,
   "metadata": {},
   "outputs": [],
   "source": [
    "# Create a trace\n",
    "trace = go.Scatter(\n",
    "    x = cities['latitude'],\n",
    "    y = cities['temperature'],\n",
    "    text = cities['city'],\n",
    "    mode = 'markers'\n",
    ")\n",
    "\n",
    "data = [trace]\n",
    "\n",
    "# Create layout\n",
    "layout = go.Layout(\n",
    "    title = \"Temperature vs Latitude Scatterplot\",\n",
    "    xaxis = dict(title=\"Latitude\"),\n",
    "    yaxis = dict(title=\"Temperature\"),\n",
    "    width = 800,\n",
    "    height = 500,\n",
    "    hovermode = \"closest\"\n",
    ")\n",
    "\n",
    "fig = go.Figure(data=data, layout=layout)\n",
    "py.iplot(fig, filename='scatterplot-basic')"
   ]
  },
  {
   "cell_type": "code",
   "execution_count": null,
   "metadata": {},
   "outputs": [],
   "source": [
    "eu_countries = countries[countries.EU == 'yes']\n",
    "eu_countries_sorted = eu_countries.sort_values('population', ascending=True)\n",
    "\n",
    "trace = go.Bar(\n",
    "    x = eu_countries_sorted['country'],\n",
    "    y = eu_countries_sorted['population']\n",
    ")\n",
    "\n",
    "data = [trace]\n",
    "layout = go.Layout(\n",
    "    title = \"Polution of Countries in the EU\",\n",
    "    xaxis = dict(title=\"Countries\"),\n",
    "    yaxis = dict(title=\"Population ( millions)\"),\n",
    "    width = 800,\n",
    "    height = 500\n",
    ")\n",
    "\n",
    "fig = go.Figure(data=data, layout=layout)\n",
    "py.iplot(fig, filename='bar-basic')"
   ]
  },
  {
   "cell_type": "code",
   "execution_count": null,
   "metadata": {},
   "outputs": [],
   "source": [
    "codes = pd.read_csv('https://raw.githubusercontent.com/plotly/datasets/master/2014_world_gdp_with_codes.csv')\n",
    "countries_codes = countries.merge(codes, left_on='country', right_on='COUNTRY', how='outer')\n",
    "\n",
    "data = [ dict(\n",
    "        type = 'choropleth',\n",
    "        locations = countries_codes['CODE'],\n",
    "        z = countries_codes['population'],\n",
    "        text = countries_codes['country'],\n",
    "        autocolorscale = True,\n",
    "        colorbar = dict(\n",
    "            title = 'Population (millions)'),\n",
    "        ) ]\n",
    "\n",
    "layout = dict(\n",
    "    title = 'Population of European Countries',\n",
    "    geo = dict(\n",
    "        showframe = False,\n",
    "        projection = dict(\n",
    "            type = 'Mercator'\n",
    "        )\n",
    "    )\n",
    ")\n",
    "\n",
    "fig = dict(data=data, layout=layout )\n",
    "py.iplot(fig, filename='choropleth')"
   ]
  },
  {
   "cell_type": "markdown",
   "metadata": {},
   "source": [
    "### <font color=\"green\">Your Turn: World Cup data</font>  \n",
    "Draw any type of plot not shown above, using `datasets/Players.csv` or `datasets/Teams.csv`.  We recommend consulting the API documentation of pandas and/or seaborn."
   ]
  },
  {
   "cell_type": "code",
   "execution_count": null,
   "metadata": {},
   "outputs": [],
   "source": []
  }
 ],
 "metadata": {
  "kernelspec": {
   "display_name": "Python 3",
   "language": "python",
   "name": "python3"
  },
  "language_info": {
   "codemirror_mode": {
    "name": "ipython",
    "version": 3
   },
   "file_extension": ".py",
   "mimetype": "text/x-python",
   "name": "python",
   "nbconvert_exporter": "python",
   "pygments_lexer": "ipython3",
   "version": "3.6.3"
  }
 },
 "nbformat": 4,
 "nbformat_minor": 2
}
